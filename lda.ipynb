{
 "cells": [
  {
   "cell_type": "code",
   "execution_count": 1,
   "id": "built-wagner",
   "metadata": {},
   "outputs": [
    {
     "name": "stdout",
     "output_type": "stream",
     "text": [
      "Archive:  archive.zip\n",
      "  inflating: abcnews-date-text.csv   \n"
     ]
    }
   ],
   "source": [
    "!unzip archive.zip"
   ]
  },
  {
   "cell_type": "code",
   "execution_count": 49,
   "id": "handmade-market",
   "metadata": {},
   "outputs": [],
   "source": [
    "import pandas as pd"
   ]
  },
  {
   "cell_type": "code",
   "execution_count": 50,
   "id": "residential-representative",
   "metadata": {},
   "outputs": [],
   "source": [
    "df = pd.read_csv('abcnews-date-text.csv')"
   ]
  },
  {
   "cell_type": "code",
   "execution_count": 51,
   "id": "forced-bonus",
   "metadata": {},
   "outputs": [
    {
     "name": "stdout",
     "output_type": "stream",
     "text": [
      "<class 'pandas.core.frame.DataFrame'>\n",
      "RangeIndex: 1226258 entries, 0 to 1226257\n",
      "Data columns (total 2 columns):\n",
      " #   Column         Non-Null Count    Dtype \n",
      "---  ------         --------------    ----- \n",
      " 0   publish_date   1226258 non-null  int64 \n",
      " 1   headline_text  1226258 non-null  object\n",
      "dtypes: int64(1), object(1)\n",
      "memory usage: 18.7+ MB\n"
     ]
    }
   ],
   "source": [
    "df.info()"
   ]
  },
  {
   "cell_type": "code",
   "execution_count": 52,
   "id": "special-columbia",
   "metadata": {},
   "outputs": [
    {
     "data": {
      "text/html": [
       "<div>\n",
       "<style scoped>\n",
       "    .dataframe tbody tr th:only-of-type {\n",
       "        vertical-align: middle;\n",
       "    }\n",
       "\n",
       "    .dataframe tbody tr th {\n",
       "        vertical-align: top;\n",
       "    }\n",
       "\n",
       "    .dataframe thead th {\n",
       "        text-align: right;\n",
       "    }\n",
       "</style>\n",
       "<table border=\"1\" class=\"dataframe\">\n",
       "  <thead>\n",
       "    <tr style=\"text-align: right;\">\n",
       "      <th></th>\n",
       "      <th>publish_date</th>\n",
       "      <th>headline_text</th>\n",
       "    </tr>\n",
       "  </thead>\n",
       "  <tbody>\n",
       "    <tr>\n",
       "      <th>0</th>\n",
       "      <td>20030219</td>\n",
       "      <td>aba decides against community broadcasting lic...</td>\n",
       "    </tr>\n",
       "    <tr>\n",
       "      <th>1</th>\n",
       "      <td>20030219</td>\n",
       "      <td>act fire witnesses must be aware of defamation</td>\n",
       "    </tr>\n",
       "    <tr>\n",
       "      <th>2</th>\n",
       "      <td>20030219</td>\n",
       "      <td>a g calls for infrastructure protection summit</td>\n",
       "    </tr>\n",
       "  </tbody>\n",
       "</table>\n",
       "</div>"
      ],
      "text/plain": [
       "   publish_date                                      headline_text\n",
       "0      20030219  aba decides against community broadcasting lic...\n",
       "1      20030219     act fire witnesses must be aware of defamation\n",
       "2      20030219     a g calls for infrastructure protection summit"
      ]
     },
     "execution_count": 52,
     "metadata": {},
     "output_type": "execute_result"
    }
   ],
   "source": [
    "df.head(3)"
   ]
  },
  {
   "cell_type": "code",
   "execution_count": 54,
   "id": "false-shirt",
   "metadata": {},
   "outputs": [
    {
     "name": "stderr",
     "output_type": "stream",
     "text": [
      "[nltk_data] Downloading package wordnet to\n",
      "[nltk_data]     /Users/zhivarsourati/nltk_data...\n",
      "[nltk_data]   Package wordnet is already up-to-date!\n"
     ]
    },
    {
     "data": {
      "text/plain": [
       "True"
      ]
     },
     "execution_count": 54,
     "metadata": {},
     "output_type": "execute_result"
    }
   ],
   "source": [
    "import gensim\n",
    "from gensim.utils import simple_preprocess\n",
    "from gensim.parsing.preprocessing import STOPWORDS\n",
    "from nltk.stem import WordNetLemmatizer, SnowballStemmer\n",
    "from nltk.stem.porter import *\n",
    "from nltk.stem import PorterStemmer \n",
    "import numpy as np\n",
    "np.random.seed(2018)\n",
    "\n",
    "import nltk\n",
    "nltk.download('wordnet')"
   ]
  },
  {
   "cell_type": "code",
   "execution_count": 55,
   "id": "distinguished-appointment",
   "metadata": {},
   "outputs": [],
   "source": [
    "def lemmatize_stemming(text):\n",
    "    ps = PorterStemmer() \n",
    "    return ps.stem(WordNetLemmatizer().lemmatize(text, pos='v'))\n",
    "\n",
    "def preprocess(text):\n",
    "    result = []\n",
    "    for token in gensim.utils.simple_preprocess(text):\n",
    "        if token not in gensim.parsing.preprocessing.STOPWORDS and len(token) > 3:\n",
    "            result.append(lemmatize_stemming(token))\n",
    "    return result"
   ]
  },
  {
   "cell_type": "code",
   "execution_count": 28,
   "id": "liable-integration",
   "metadata": {},
   "outputs": [
    {
     "name": "stdout",
     "output_type": "stream",
     "text": [
      "original document: \n",
      "['ratepayers', 'group', 'wants', 'compulsory', 'local', 'govt', 'voting']\n",
      "\n",
      "\n",
      " tokenized and lemmatized document: \n",
      "['ratepay', 'group', 'want', 'compulsori', 'local', 'govt', 'vote']\n"
     ]
    }
   ],
   "source": [
    "doc_sample = df.iloc[4310].values[1]\n",
    "\n",
    "print('original document: ')\n",
    "words = []\n",
    "for word in doc_sample.split(' '):\n",
    "    words.append(word)\n",
    "print(words)\n",
    "print('\\n\\n tokenized and lemmatized document: ')\n",
    "print(preprocess(doc_sample))"
   ]
  },
  {
   "cell_type": "code",
   "execution_count": 29,
   "id": "interracial-pursuit",
   "metadata": {},
   "outputs": [],
   "source": [
    "processed_docs = df['headline_text'].map(preprocess)"
   ]
  },
  {
   "cell_type": "code",
   "execution_count": 30,
   "id": "deadly-nickname",
   "metadata": {},
   "outputs": [
    {
     "data": {
      "text/plain": [
       "0               [decid, commun, broadcast, licenc]\n",
       "1                               [wit, awar, defam]\n",
       "2           [call, infrastructur, protect, summit]\n",
       "3                      [staff, aust, strike, rise]\n",
       "4             [strike, affect, australian, travel]\n",
       "5               [ambiti, olsson, win, tripl, jump]\n",
       "6           [antic, delight, record, break, barca]\n",
       "7    [aussi, qualifi, stosur, wast, memphi, match]\n",
       "8            [aust, address, secur, council, iraq]\n",
       "9                         [australia, lock, timet]\n",
       "Name: headline_text, dtype: object"
      ]
     },
     "execution_count": 30,
     "metadata": {},
     "output_type": "execute_result"
    }
   ],
   "source": [
    "processed_docs[:10]"
   ]
  },
  {
   "cell_type": "code",
   "execution_count": 32,
   "id": "funny-extraction",
   "metadata": {},
   "outputs": [
    {
     "name": "stdout",
     "output_type": "stream",
     "text": [
      "0 broadcast\n",
      "1 commun\n",
      "2 decid\n",
      "3 licenc\n",
      "4 awar\n",
      "5 defam\n",
      "6 wit\n",
      "7 call\n",
      "8 infrastructur\n",
      "9 protect\n",
      "10 summit\n"
     ]
    }
   ],
   "source": [
    "dictionary = gensim.corpora.Dictionary(processed_docs)\n",
    "\n",
    "count = 0\n",
    "for k, v in dictionary.iteritems():\n",
    "    print(k, v)\n",
    "    count += 1\n",
    "    if count > 10:\n",
    "        break"
   ]
  },
  {
   "cell_type": "code",
   "execution_count": 33,
   "id": "underlying-description",
   "metadata": {},
   "outputs": [],
   "source": [
    "dictionary.filter_extremes(no_below=15, no_above=0.5, keep_n=100000)"
   ]
  },
  {
   "cell_type": "code",
   "execution_count": 34,
   "id": "apparent-bailey",
   "metadata": {},
   "outputs": [],
   "source": [
    "bow_corpus = [dictionary.doc2bow(doc) for doc in processed_docs]"
   ]
  },
  {
   "cell_type": "code",
   "execution_count": 35,
   "id": "ranging-burden",
   "metadata": {},
   "outputs": [
    {
     "data": {
      "text/plain": [
       "[(309, 1), (1034, 1), (1035, 1), (1036, 1), (1037, 1)]"
      ]
     },
     "execution_count": 35,
     "metadata": {},
     "output_type": "execute_result"
    }
   ],
   "source": [
    "bow_corpus[400]"
   ]
  },
  {
   "cell_type": "code",
   "execution_count": 40,
   "id": "dimensional-executive",
   "metadata": {},
   "outputs": [
    {
     "name": "stdout",
     "output_type": "stream",
     "text": [
      "Word 309 (\"scare\") appears 1 time.\n",
      "Word 1034 (\"fume\") appears 1 time.\n",
      "Word 1035 (\"paint\") appears 1 time.\n",
      "Word 1036 (\"reopen\") appears 1 time.\n",
      "Word 1037 (\"school\") appears 1 time.\n"
     ]
    }
   ],
   "source": [
    "bow_doc_400 = bow_corpus[400]\n",
    "\n",
    "for i in range(len(bow_doc_400)):\n",
    "    print(\"Word {} (\\\"{}\\\") appears {} time.\".format(\n",
    "        bow_doc_400[i][0], \n",
    "        dictionary[bow_doc_400[i][0]], \n",
    "        bow_doc_400[i][1])\n",
    "     )"
   ]
  },
  {
   "cell_type": "code",
   "execution_count": 45,
   "id": "genuine-soldier",
   "metadata": {},
   "outputs": [
    {
     "name": "stdout",
     "output_type": "stream",
     "text": [
      "[(0, 0.5852942020878993),\n",
      " (1, 0.38405854933668493),\n",
      " (2, 0.5017732999224691),\n",
      " (3, 0.5080878695349914)]\n"
     ]
    }
   ],
   "source": [
    "from gensim import corpora, models\n",
    "\n",
    "tfidf = models.TfidfModel(bow_corpus)\n",
    "corpus_tfidf = tfidf[bow_corpus]\n",
    "\n",
    "from pprint import pprint\n",
    "\n",
    "for doc in corpus_tfidf:\n",
    "    pprint(doc)\n",
    "    break"
   ]
  },
  {
   "cell_type": "code",
   "execution_count": 46,
   "id": "engaged-matthew",
   "metadata": {},
   "outputs": [],
   "source": [
    "lda_model = gensim.models.LdaMulticore(bow_corpus, num_topics=10, id2word=dictionary, passes=2, workers=2)"
   ]
  },
  {
   "cell_type": "code",
   "execution_count": 47,
   "id": "false-fortune",
   "metadata": {},
   "outputs": [
    {
     "name": "stdout",
     "output_type": "stream",
     "text": [
      "Topic: 0 \n",
      "Words: 0.032*\"donald\" + 0.029*\"kill\" + 0.027*\"market\" + 0.021*\"border\" + 0.018*\"attack\" + 0.016*\"scott\" + 0.014*\"bank\" + 0.013*\"amid\" + 0.013*\"australia\" + 0.011*\"share\"\n",
      "Topic: 1 \n",
      "Words: 0.040*\"polic\" + 0.040*\"sydney\" + 0.020*\"die\" + 0.019*\"death\" + 0.017*\"shoot\" + 0.016*\"hous\" + 0.016*\"rise\" + 0.016*\"investig\" + 0.013*\"melbourn\" + 0.012*\"break\"\n",
      "Topic: 2 \n",
      "Words: 0.017*\"speak\" + 0.017*\"countri\" + 0.015*\"releas\" + 0.014*\"work\" + 0.012*\"video\" + 0.012*\"campaign\" + 0.012*\"media\" + 0.011*\"launch\" + 0.011*\"bodi\" + 0.010*\"protest\"\n",
      "Topic: 3 \n",
      "Words: 0.044*\"trump\" + 0.023*\"world\" + 0.020*\"australia\" + 0.019*\"open\" + 0.017*\"women\" + 0.015*\"australian\" + 0.015*\"final\" + 0.014*\"miss\" + 0.012*\"win\" + 0.011*\"take\"\n",
      "Topic: 4 \n",
      "Words: 0.022*\"bushfir\" + 0.021*\"school\" + 0.019*\"nation\" + 0.017*\"chang\" + 0.015*\"leav\" + 0.012*\"street\" + 0.011*\"rural\" + 0.011*\"darwin\" + 0.010*\"climat\" + 0.010*\"show\"\n",
      "Topic: 5 \n",
      "Words: 0.038*\"elect\" + 0.027*\"live\" + 0.017*\"state\" + 0.016*\"victorian\" + 0.016*\"time\" + 0.012*\"island\" + 0.012*\"farm\" + 0.010*\"say\" + 0.010*\"reveal\" + 0.010*\"quarantin\"\n",
      "Topic: 6 \n",
      "Words: 0.026*\"case\" + 0.025*\"charg\" + 0.025*\"court\" + 0.021*\"murder\" + 0.019*\"test\" + 0.019*\"news\" + 0.017*\"face\" + 0.016*\"polic\" + 0.013*\"jail\" + 0.013*\"peopl\"\n",
      "Topic: 7 \n",
      "Words: 0.065*\"coronaviru\" + 0.034*\"queensland\" + 0.027*\"victoria\" + 0.017*\"coast\" + 0.017*\"covid\" + 0.015*\"australia\" + 0.015*\"tasmania\" + 0.014*\"restrict\" + 0.011*\"gold\" + 0.010*\"west\"\n",
      "Topic: 8 \n",
      "Words: 0.034*\"australian\" + 0.027*\"china\" + 0.016*\"australia\" + 0.013*\"say\" + 0.013*\"fight\" + 0.012*\"royal\" + 0.012*\"morrison\" + 0.012*\"labor\" + 0.012*\"govern\" + 0.011*\"drum\"\n",
      "Topic: 9 \n",
      "Words: 0.019*\"health\" + 0.019*\"crash\" + 0.018*\"govern\" + 0.014*\"hospit\" + 0.014*\"busi\" + 0.013*\"indigen\" + 0.012*\"commun\" + 0.012*\"feder\" + 0.012*\"fund\" + 0.012*\"region\"\n"
     ]
    }
   ],
   "source": [
    "for idx, topic in lda_model.print_topics(-1):\n",
    "    print('Topic: {} \\nWords: {}'.format(idx, topic))"
   ]
  },
  {
   "cell_type": "code",
   "execution_count": 48,
   "id": "known-muslim",
   "metadata": {},
   "outputs": [
    {
     "name": "stdout",
     "output_type": "stream",
     "text": [
      "Topic: 0 Word: 0.028*\"trump\" + 0.011*\"coronaviru\" + 0.011*\"royal\" + 0.009*\"commiss\" + 0.009*\"vaccin\" + 0.009*\"friday\" + 0.009*\"monday\" + 0.008*\"michael\" + 0.007*\"lockdown\" + 0.007*\"covid\"\n",
      "Topic: 1 Word: 0.020*\"crash\" + 0.010*\"interview\" + 0.009*\"fatal\" + 0.008*\"climat\" + 0.007*\"plead\" + 0.007*\"truck\" + 0.007*\"peter\" + 0.007*\"die\" + 0.007*\"light\" + 0.006*\"septemb\"\n",
      "Topic: 2 Word: 0.017*\"news\" + 0.013*\"market\" + 0.009*\"gold\" + 0.009*\"australian\" + 0.008*\"coast\" + 0.008*\"rural\" + 0.007*\"world\" + 0.007*\"final\" + 0.006*\"financ\" + 0.006*\"wall\"\n",
      "Topic: 3 Word: 0.010*\"christma\" + 0.009*\"coronaviru\" + 0.009*\"weather\" + 0.007*\"pandem\" + 0.006*\"say\" + 0.006*\"govern\" + 0.006*\"elect\" + 0.005*\"australia\" + 0.005*\"brexit\" + 0.005*\"china\"\n",
      "Topic: 4 Word: 0.017*\"coronaviru\" + 0.017*\"donald\" + 0.016*\"covid\" + 0.015*\"countri\" + 0.010*\"hour\" + 0.009*\"restrict\" + 0.008*\"north\" + 0.008*\"south\" + 0.008*\"wednesday\" + 0.007*\"updat\"\n",
      "Topic: 5 Word: 0.017*\"polic\" + 0.017*\"charg\" + 0.016*\"murder\" + 0.012*\"court\" + 0.010*\"woman\" + 0.009*\"arrest\" + 0.009*\"jail\" + 0.009*\"alleg\" + 0.009*\"shoot\" + 0.009*\"sentenc\"\n",
      "Topic: 6 Word: 0.012*\"drum\" + 0.008*\"care\" + 0.007*\"age\" + 0.006*\"social\" + 0.006*\"coronaviru\" + 0.005*\"northern\" + 0.005*\"fish\" + 0.005*\"octob\" + 0.005*\"quiz\" + 0.005*\"territori\"\n",
      "Topic: 7 Word: 0.009*\"tuesday\" + 0.009*\"thursday\" + 0.008*\"sexual\" + 0.008*\"turnbul\" + 0.007*\"elect\" + 0.007*\"cattl\" + 0.007*\"travel\" + 0.006*\"search\" + 0.006*\"victorian\" + 0.005*\"dairi\"\n",
      "Topic: 8 Word: 0.011*\"australia\" + 0.008*\"stori\" + 0.008*\"andrew\" + 0.007*\"test\" + 0.007*\"coronaviru\" + 0.006*\"india\" + 0.006*\"cricket\" + 0.006*\"zealand\" + 0.006*\"juli\" + 0.006*\"daniel\"\n",
      "Topic: 9 Word: 0.011*\"morrison\" + 0.010*\"scott\" + 0.008*\"video\" + 0.006*\"novemb\" + 0.006*\"spring\" + 0.005*\"decemb\" + 0.005*\"gener\" + 0.004*\"cancel\" + 0.004*\"mean\" + 0.004*\"pictur\"\n"
     ]
    }
   ],
   "source": [
    "lda_model_tfidf = gensim.models.LdaMulticore(corpus_tfidf, num_topics=10, id2word=dictionary, passes=2, workers=4)"
   ]
  },
  {
   "cell_type": "code",
   "execution_count": 56,
   "id": "familiar-video",
   "metadata": {},
   "outputs": [
    {
     "name": "stdout",
     "output_type": "stream",
     "text": [
      "Topic: 0 \n",
      "Word: 0.028*\"trump\" + 0.011*\"coronaviru\" + 0.011*\"royal\" + 0.009*\"commiss\" + 0.009*\"vaccin\" + 0.009*\"friday\" + 0.009*\"monday\" + 0.008*\"michael\" + 0.007*\"lockdown\" + 0.007*\"covid\"\n",
      "Topic: 1 \n",
      "Word: 0.020*\"crash\" + 0.010*\"interview\" + 0.009*\"fatal\" + 0.008*\"climat\" + 0.007*\"plead\" + 0.007*\"truck\" + 0.007*\"peter\" + 0.007*\"die\" + 0.007*\"light\" + 0.006*\"septemb\"\n",
      "Topic: 2 \n",
      "Word: 0.017*\"news\" + 0.013*\"market\" + 0.009*\"gold\" + 0.009*\"australian\" + 0.008*\"coast\" + 0.008*\"rural\" + 0.007*\"world\" + 0.007*\"final\" + 0.006*\"financ\" + 0.006*\"wall\"\n",
      "Topic: 3 \n",
      "Word: 0.010*\"christma\" + 0.009*\"coronaviru\" + 0.009*\"weather\" + 0.007*\"pandem\" + 0.006*\"say\" + 0.006*\"govern\" + 0.006*\"elect\" + 0.005*\"australia\" + 0.005*\"brexit\" + 0.005*\"china\"\n",
      "Topic: 4 \n",
      "Word: 0.017*\"coronaviru\" + 0.017*\"donald\" + 0.016*\"covid\" + 0.015*\"countri\" + 0.010*\"hour\" + 0.009*\"restrict\" + 0.008*\"north\" + 0.008*\"south\" + 0.008*\"wednesday\" + 0.007*\"updat\"\n",
      "Topic: 5 \n",
      "Word: 0.017*\"polic\" + 0.017*\"charg\" + 0.016*\"murder\" + 0.012*\"court\" + 0.010*\"woman\" + 0.009*\"arrest\" + 0.009*\"jail\" + 0.009*\"alleg\" + 0.009*\"shoot\" + 0.009*\"sentenc\"\n",
      "Topic: 6 \n",
      "Word: 0.012*\"drum\" + 0.008*\"care\" + 0.007*\"age\" + 0.006*\"social\" + 0.006*\"coronaviru\" + 0.005*\"northern\" + 0.005*\"fish\" + 0.005*\"octob\" + 0.005*\"quiz\" + 0.005*\"territori\"\n",
      "Topic: 7 \n",
      "Word: 0.009*\"tuesday\" + 0.009*\"thursday\" + 0.008*\"sexual\" + 0.008*\"turnbul\" + 0.007*\"elect\" + 0.007*\"cattl\" + 0.007*\"travel\" + 0.006*\"search\" + 0.006*\"victorian\" + 0.005*\"dairi\"\n",
      "Topic: 8 \n",
      "Word: 0.011*\"australia\" + 0.008*\"stori\" + 0.008*\"andrew\" + 0.007*\"test\" + 0.007*\"coronaviru\" + 0.006*\"india\" + 0.006*\"cricket\" + 0.006*\"zealand\" + 0.006*\"juli\" + 0.006*\"daniel\"\n",
      "Topic: 9 \n",
      "Word: 0.011*\"morrison\" + 0.010*\"scott\" + 0.008*\"video\" + 0.006*\"novemb\" + 0.006*\"spring\" + 0.005*\"decemb\" + 0.005*\"gener\" + 0.004*\"cancel\" + 0.004*\"mean\" + 0.004*\"pictur\"\n"
     ]
    }
   ],
   "source": [
    "for idx, topic in lda_model_tfidf.print_topics(-1):\n",
    "    print('Topic: {} \\nWord: {}'.format(idx, topic))"
   ]
  }
 ],
 "metadata": {
  "kernelspec": {
   "display_name": "Python 3",
   "language": "python",
   "name": "python3"
  },
  "language_info": {
   "codemirror_mode": {
    "name": "ipython",
    "version": 3
   },
   "file_extension": ".py",
   "mimetype": "text/x-python",
   "name": "python",
   "nbconvert_exporter": "python",
   "pygments_lexer": "ipython3",
   "version": "3.8.0"
  }
 },
 "nbformat": 4,
 "nbformat_minor": 5
}
